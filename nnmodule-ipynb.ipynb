{
 "cells": [
  {
   "cell_type": "code",
   "execution_count": 1,
   "metadata": {
    "_cell_guid": "b1076dfc-b9ad-4769-8c92-a6c4dae69d19",
    "_uuid": "8f2839f25d086af736a60e9eeb907d3b93b6e0e5",
    "execution": {
     "iopub.execute_input": "2025-06-14T13:50:38.668042Z",
     "iopub.status.busy": "2025-06-14T13:50:38.667835Z",
     "iopub.status.idle": "2025-06-14T13:50:47.014306Z",
     "shell.execute_reply": "2025-06-14T13:50:47.013750Z",
     "shell.execute_reply.started": "2025-06-14T13:50:38.668023Z"
    },
    "trusted": true
   },
   "outputs": [],
   "source": [
    "import torch"
   ]
  },
  {
   "cell_type": "code",
   "execution_count": 2,
   "metadata": {
    "execution": {
     "iopub.execute_input": "2025-06-14T13:50:47.016045Z",
     "iopub.status.busy": "2025-06-14T13:50:47.015649Z",
     "iopub.status.idle": "2025-06-14T13:50:47.139691Z",
     "shell.execute_reply": "2025-06-14T13:50:47.139135Z",
     "shell.execute_reply.started": "2025-06-14T13:50:47.016026Z"
    },
    "trusted": true
   },
   "outputs": [
    {
     "name": "stdout",
     "output_type": "stream",
     "text": [
      "Tesla T4\n",
      "cuda\n"
     ]
    }
   ],
   "source": [
    "print(torch.cuda.get_device_name())\n",
    "device='cuda' if torch.cuda.is_available() else 'cpu'\n",
    "print(device)"
   ]
  },
  {
   "cell_type": "code",
   "execution_count": 4,
   "metadata": {
    "execution": {
     "iopub.execute_input": "2025-06-13T05:58:49.499488Z",
     "iopub.status.busy": "2025-06-13T05:58:49.498933Z",
     "iopub.status.idle": "2025-06-13T05:58:49.503552Z",
     "shell.execute_reply": "2025-06-13T05:58:49.502964Z",
     "shell.execute_reply.started": "2025-06-13T05:58:49.499465Z"
    },
    "trusted": true
   },
   "outputs": [],
   "source": [
    "import torch.nn as nn\n",
    "\n",
    "class Model(nn.Module):\n",
    "    def __init__(self,num_features):\n",
    "        super().__init__()\n",
    "        self.linear=nn.Linear(num_features,1)\n",
    "        self.sigmoid=nn.Sigmoid()\n",
    "\n",
    "    def forward(self,features):\n",
    "        out=self.linear(features)\n",
    "        out=self.sigmoid(out)\n",
    "\n",
    "        return out"
   ]
  },
  {
   "cell_type": "code",
   "execution_count": 6,
   "metadata": {
    "execution": {
     "iopub.execute_input": "2025-06-13T06:00:01.197710Z",
     "iopub.status.busy": "2025-06-13T06:00:01.197437Z",
     "iopub.status.idle": "2025-06-13T06:00:01.281714Z",
     "shell.execute_reply": "2025-06-13T06:00:01.281221Z",
     "shell.execute_reply.started": "2025-06-13T06:00:01.197688Z"
    },
    "trusted": true
   },
   "outputs": [
    {
     "data": {
      "text/plain": [
       "tensor([[0.3956],\n",
       "        [0.4428],\n",
       "        [0.4250],\n",
       "        [0.4667],\n",
       "        [0.4709],\n",
       "        [0.4699],\n",
       "        [0.4864],\n",
       "        [0.3639],\n",
       "        [0.3438],\n",
       "        [0.5026]], grad_fn=<SigmoidBackward0>)"
      ]
     },
     "execution_count": 6,
     "metadata": {},
     "output_type": "execute_result"
    }
   ],
   "source": [
    "features=torch.rand(10,5)\n",
    "\n",
    "model=Model(features.shape[1])\n",
    "\n",
    "model(features)"
   ]
  },
  {
   "cell_type": "code",
   "execution_count": 8,
   "metadata": {
    "execution": {
     "iopub.execute_input": "2025-06-13T06:01:51.776158Z",
     "iopub.status.busy": "2025-06-13T06:01:51.775880Z",
     "iopub.status.idle": "2025-06-13T06:01:51.781995Z",
     "shell.execute_reply": "2025-06-13T06:01:51.781237Z",
     "shell.execute_reply.started": "2025-06-13T06:01:51.776138Z"
    },
    "trusted": true
   },
   "outputs": [
    {
     "data": {
      "text/plain": [
       "Parameter containing:\n",
       "tensor([[-0.2867, -0.2804,  0.3263, -0.4035,  0.0169]], requires_grad=True)"
      ]
     },
     "execution_count": 8,
     "metadata": {},
     "output_type": "execute_result"
    }
   ],
   "source": [
    "#model weights\n",
    "model.linear.weight"
   ]
  },
  {
   "cell_type": "code",
   "execution_count": 9,
   "metadata": {
    "execution": {
     "iopub.execute_input": "2025-06-13T06:02:06.570531Z",
     "iopub.status.busy": "2025-06-13T06:02:06.570291Z",
     "iopub.status.idle": "2025-06-13T06:02:06.576019Z",
     "shell.execute_reply": "2025-06-13T06:02:06.575455Z",
     "shell.execute_reply.started": "2025-06-13T06:02:06.570515Z"
    },
    "trusted": true
   },
   "outputs": [
    {
     "data": {
      "text/plain": [
       "Parameter containing:\n",
       "tensor([0.0988], requires_grad=True)"
      ]
     },
     "execution_count": 9,
     "metadata": {},
     "output_type": "execute_result"
    }
   ],
   "source": [
    "#bias factors\n",
    "model.linear.bias"
   ]
  },
  {
   "cell_type": "code",
   "execution_count": 10,
   "metadata": {
    "execution": {
     "iopub.execute_input": "2025-06-13T06:02:47.949185Z",
     "iopub.status.busy": "2025-06-13T06:02:47.948636Z",
     "iopub.status.idle": "2025-06-13T06:02:51.567918Z",
     "shell.execute_reply": "2025-06-13T06:02:51.567248Z",
     "shell.execute_reply.started": "2025-06-13T06:02:47.949161Z"
    },
    "trusted": true
   },
   "outputs": [
    {
     "name": "stdout",
     "output_type": "stream",
     "text": [
      "Requirement already satisfied: torchinfo in /usr/local/lib/python3.11/dist-packages (1.8.0)\n"
     ]
    }
   ],
   "source": [
    "!pip install torchinfo"
   ]
  },
  {
   "cell_type": "code",
   "execution_count": 14,
   "metadata": {
    "execution": {
     "iopub.execute_input": "2025-06-13T06:03:58.586013Z",
     "iopub.status.busy": "2025-06-13T06:03:58.585753Z",
     "iopub.status.idle": "2025-06-13T06:03:58.592600Z",
     "shell.execute_reply": "2025-06-13T06:03:58.591825Z",
     "shell.execute_reply.started": "2025-06-13T06:03:58.585992Z"
    },
    "trusted": true
   },
   "outputs": [
    {
     "data": {
      "text/plain": [
       "==========================================================================================\n",
       "Layer (type:depth-idx)                   Output Shape              Param #\n",
       "==========================================================================================\n",
       "Model                                    [20, 1]                   --\n",
       "├─Linear: 1-1                            [20, 1]                   6\n",
       "├─Sigmoid: 1-2                           [20, 1]                   --\n",
       "==========================================================================================\n",
       "Total params: 6\n",
       "Trainable params: 6\n",
       "Non-trainable params: 0\n",
       "Total mult-adds (Units.MEGABYTES): 0.00\n",
       "==========================================================================================\n",
       "Input size (MB): 0.00\n",
       "Forward/backward pass size (MB): 0.00\n",
       "Params size (MB): 0.00\n",
       "Estimated Total Size (MB): 0.00\n",
       "=========================================================================================="
      ]
     },
     "execution_count": 14,
     "metadata": {},
     "output_type": "execute_result"
    }
   ],
   "source": [
    "from torchinfo import summary\n",
    "summary(model,input_size=(20,5))"
   ]
  },
  {
   "cell_type": "code",
   "execution_count": 26,
   "metadata": {
    "execution": {
     "iopub.execute_input": "2025-06-13T06:15:44.048092Z",
     "iopub.status.busy": "2025-06-13T06:15:44.047489Z",
     "iopub.status.idle": "2025-06-13T06:15:44.052385Z",
     "shell.execute_reply": "2025-06-13T06:15:44.051648Z",
     "shell.execute_reply.started": "2025-06-13T06:15:44.048070Z"
    },
    "trusted": true
   },
   "outputs": [],
   "source": [
    "class Model2(nn.Module):\n",
    "    def __init__(self,num_features):\n",
    "\n",
    "        super().__init__()\n",
    "        self.linear1=nn.Linear(num_features,3)\n",
    "        self.relu=nn.ReLU()\n",
    "        self.linear2=nn.Linear(3,1)\n",
    "        self.sigmoid=nn.Sigmoid()\n",
    "\n",
    "    def forward(self,features):\n",
    "        out=self.linear1(features)\n",
    "        out=self.relu(out)\n",
    "        out=self.linear2(out)\n",
    "        out=self.sigmoid(out)\n",
    "\n",
    "        return out"
   ]
  },
  {
   "cell_type": "code",
   "execution_count": 27,
   "metadata": {
    "execution": {
     "iopub.execute_input": "2025-06-13T06:15:48.047108Z",
     "iopub.status.busy": "2025-06-13T06:15:48.046658Z",
     "iopub.status.idle": "2025-06-13T06:15:48.051210Z",
     "shell.execute_reply": "2025-06-13T06:15:48.050580Z",
     "shell.execute_reply.started": "2025-06-13T06:15:48.047087Z"
    },
    "trusted": true
   },
   "outputs": [],
   "source": [
    "features=torch.rand(10,5)\n",
    "\n",
    "model2=Model2(features.shape[1])"
   ]
  },
  {
   "cell_type": "code",
   "execution_count": 28,
   "metadata": {
    "execution": {
     "iopub.execute_input": "2025-06-13T06:15:51.027568Z",
     "iopub.status.busy": "2025-06-13T06:15:51.027107Z",
     "iopub.status.idle": "2025-06-13T06:15:51.032782Z",
     "shell.execute_reply": "2025-06-13T06:15:51.032287Z",
     "shell.execute_reply.started": "2025-06-13T06:15:51.027547Z"
    },
    "trusted": true
   },
   "outputs": [
    {
     "data": {
      "text/plain": [
       "tensor([[0.6269],\n",
       "        [0.6269],\n",
       "        [0.6269],\n",
       "        [0.6269],\n",
       "        [0.6269],\n",
       "        [0.6269],\n",
       "        [0.6269],\n",
       "        [0.6268],\n",
       "        [0.6269],\n",
       "        [0.6269]], grad_fn=<SigmoidBackward0>)"
      ]
     },
     "execution_count": 28,
     "metadata": {},
     "output_type": "execute_result"
    }
   ],
   "source": [
    "model2(features)"
   ]
  },
  {
   "cell_type": "code",
   "execution_count": 31,
   "metadata": {
    "execution": {
     "iopub.execute_input": "2025-06-13T06:16:33.945914Z",
     "iopub.status.busy": "2025-06-13T06:16:33.945357Z",
     "iopub.status.idle": "2025-06-13T06:16:33.950786Z",
     "shell.execute_reply": "2025-06-13T06:16:33.950133Z",
     "shell.execute_reply.started": "2025-06-13T06:16:33.945892Z"
    },
    "trusted": true
   },
   "outputs": [
    {
     "data": {
      "text/plain": [
       "Parameter containing:\n",
       "tensor([[ 0.2966, -0.3726,  0.4058,  0.2069, -0.1411],\n",
       "        [-0.0214, -0.1505, -0.2218, -0.4066, -0.0682],\n",
       "        [-0.2099, -0.3123, -0.3359,  0.3057, -0.4279]], requires_grad=True)"
      ]
     },
     "execution_count": 31,
     "metadata": {},
     "output_type": "execute_result"
    }
   ],
   "source": [
    "model2.linear1.weight"
   ]
  },
  {
   "cell_type": "markdown",
   "metadata": {},
   "source": [
    "# Sequential Container"
   ]
  },
  {
   "cell_type": "code",
   "execution_count": 3,
   "metadata": {
    "execution": {
     "iopub.execute_input": "2025-06-14T13:51:31.804234Z",
     "iopub.status.busy": "2025-06-14T13:51:31.803693Z",
     "iopub.status.idle": "2025-06-14T13:51:31.808322Z",
     "shell.execute_reply": "2025-06-14T13:51:31.807655Z",
     "shell.execute_reply.started": "2025-06-14T13:51:31.804211Z"
    },
    "trusted": true
   },
   "outputs": [],
   "source": [
    "import torch.nn as nn"
   ]
  },
  {
   "cell_type": "code",
   "execution_count": 13,
   "metadata": {
    "execution": {
     "iopub.execute_input": "2025-06-14T14:00:16.602399Z",
     "iopub.status.busy": "2025-06-14T14:00:16.601800Z",
     "iopub.status.idle": "2025-06-14T14:00:16.606756Z",
     "shell.execute_reply": "2025-06-14T14:00:16.606088Z",
     "shell.execute_reply.started": "2025-06-14T14:00:16.602378Z"
    },
    "trusted": true
   },
   "outputs": [],
   "source": [
    "class Model(nn.Module):\n",
    "\n",
    "    def __init__(self,num_features):\n",
    "\n",
    "        super().__init__()\n",
    "        self.network=nn.Sequential(\n",
    "            nn.Linear(num_features,3),\n",
    "            nn.ReLU(),\n",
    "            nn.Linear(3,1),\n",
    "            nn.Sigmoid()\n",
    "        )\n",
    "\n",
    "    def forward(self,features):\n",
    "        out=self.network(features)\n",
    "\n",
    "        return out"
   ]
  },
  {
   "cell_type": "code",
   "execution_count": 14,
   "metadata": {
    "execution": {
     "iopub.execute_input": "2025-06-14T14:00:16.826143Z",
     "iopub.status.busy": "2025-06-14T14:00:16.825381Z",
     "iopub.status.idle": "2025-06-14T14:00:17.285045Z",
     "shell.execute_reply": "2025-06-14T14:00:17.284217Z",
     "shell.execute_reply.started": "2025-06-14T14:00:16.826111Z"
    },
    "trusted": true
   },
   "outputs": [
    {
     "data": {
      "text/plain": [
       "tensor([[0.3671],\n",
       "        [0.4439],\n",
       "        [0.4460],\n",
       "        [0.3946],\n",
       "        [0.4489],\n",
       "        [0.4447],\n",
       "        [0.4676],\n",
       "        [0.4279],\n",
       "        [0.3840],\n",
       "        [0.4181]], grad_fn=<SigmoidBackward0>)"
      ]
     },
     "execution_count": 14,
     "metadata": {},
     "output_type": "execute_result"
    }
   ],
   "source": [
    "features=torch.rand(10,5)\n",
    "\n",
    "model=Model(features.shape[1])\n",
    "model(features)"
   ]
  },
  {
   "cell_type": "markdown",
   "metadata": {},
   "source": []
  },
  {
   "cell_type": "code",
   "execution_count": null,
   "metadata": {
    "trusted": true
   },
   "outputs": [],
   "source": []
  }
 ],
 "metadata": {
  "kaggle": {
   "accelerator": "nvidiaTeslaT4",
   "dataSources": [],
   "dockerImageVersionId": 31041,
   "isGpuEnabled": true,
   "isInternetEnabled": true,
   "language": "python",
   "sourceType": "notebook"
  },
  "kernelspec": {
   "display_name": "Python 3",
   "language": "python",
   "name": "python3"
  },
  "language_info": {
   "codemirror_mode": {
    "name": "ipython",
    "version": 3
   },
   "file_extension": ".py",
   "mimetype": "text/x-python",
   "name": "python",
   "nbconvert_exporter": "python",
   "pygments_lexer": "ipython3",
   "version": "3.11.11"
  }
 },
 "nbformat": 4,
 "nbformat_minor": 4
}
