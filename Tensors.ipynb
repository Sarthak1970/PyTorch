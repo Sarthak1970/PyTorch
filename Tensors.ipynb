{
  "cells": [
    {
      "cell_type": "code",
      "execution_count": 1,
      "metadata": {
        "colab": {
          "base_uri": "https://localhost:8080/"
        },
        "id": "1KzrbrOO-Mvm",
        "outputId": "38e1c6ad-482f-4dfe-deb2-993bb2a6d5b6"
      },
      "outputs": [
        {
          "name": "stdout",
          "output_type": "stream",
          "text": [
            "2.6.0+cu124\n"
          ]
        }
      ],
      "source": [
        "import torch\n",
        "print(torch.__version__)"
      ]
    },
    {
      "cell_type": "markdown",
      "metadata": {},
      "source": []
    },
    {
      "cell_type": "code",
      "execution_count": 2,
      "metadata": {
        "colab": {
          "base_uri": "https://localhost:8080/"
        },
        "id": "s4wiFCof-g37",
        "outputId": "88322456-dd0d-4ea9-b1e2-a20846a63594"
      },
      "outputs": [
        {
          "name": "stdout",
          "output_type": "stream",
          "text": [
            "cuda\n",
            "Tesla T4\n"
          ]
        }
      ],
      "source": [
        "device='cuda' if torch.cuda.is_available() else 'cpu'\n",
        "print(device)\n",
        "print(torch.cuda.get_device_name(0))"
      ]
    },
    {
      "cell_type": "code",
      "execution_count": 3,
      "metadata": {
        "colab": {
          "base_uri": "https://localhost:8080/"
        },
        "id": "L_9qCo_Z-8X9",
        "outputId": "1cbe3556-4acc-4afe-b751-a372ea427fe4"
      },
      "outputs": [
        {
          "data": {
            "text/plain": [
              "torch.Tensor"
            ]
          },
          "execution_count": 3,
          "metadata": {},
          "output_type": "execute_result"
        }
      ],
      "source": [
        "#Creating Tensors\n",
        "a=torch.empty(2,3)\n",
        "type(a)\n"
      ]
    },
    {
      "cell_type": "code",
      "execution_count": 4,
      "metadata": {
        "colab": {
          "base_uri": "https://localhost:8080/"
        },
        "id": "GF3crQ3n-qqP",
        "outputId": "9cfd2947-8d1b-4d5e-de84-1933d05be3f1"
      },
      "outputs": [
        {
          "data": {
            "text/plain": [
              "tensor([[0.8006, 0.2373, 0.3877],\n",
              "        [0.1309, 0.1775, 0.6805]])"
            ]
          },
          "execution_count": 4,
          "metadata": {},
          "output_type": "execute_result"
        }
      ],
      "source": [
        "#zero tensor\n",
        "torch.zeros(2,4)\n",
        "\n",
        "#ones\n",
        "torch.ones(1,2)\n",
        "\n",
        "#random values\n",
        "torch.rand(2,3)"
      ]
    },
    {
      "cell_type": "code",
      "execution_count": 5,
      "metadata": {
        "colab": {
          "base_uri": "https://localhost:8080/"
        },
        "id": "5ab2KNP0AHRE",
        "outputId": "5eae753f-7816-4953-ab41-494d1d54454b"
      },
      "outputs": [
        {
          "data": {
            "text/plain": [
              "tensor([[0.8303, 0.1261],\n",
              "        [0.9075, 0.8199]])"
            ]
          },
          "execution_count": 5,
          "metadata": {},
          "output_type": "execute_result"
        }
      ],
      "source": [
        "#reproducing same random number\n",
        "torch.manual_seed(5)\n",
        "torch.rand(2,2)"
      ]
    },
    {
      "cell_type": "code",
      "execution_count": 6,
      "metadata": {
        "colab": {
          "base_uri": "https://localhost:8080/"
        },
        "id": "ua8e8zg8AwBO",
        "outputId": "b6ee72ab-8793-451c-a2c8-f1076420773c"
      },
      "outputs": [
        {
          "data": {
            "text/plain": [
              "tensor([[0.8303, 0.1261],\n",
              "        [0.9075, 0.8199]])"
            ]
          },
          "execution_count": 6,
          "metadata": {},
          "output_type": "execute_result"
        }
      ],
      "source": [
        "torch.manual_seed(5)\n",
        "torch.rand(2,2)"
      ]
    },
    {
      "cell_type": "code",
      "execution_count": 7,
      "metadata": {
        "colab": {
          "base_uri": "https://localhost:8080/"
        },
        "id": "ZPrpinmVAyoq",
        "outputId": "3a6d0311-692d-484f-9e30-54da9d720873"
      },
      "outputs": [
        {
          "data": {
            "text/plain": [
              "tensor([[1, 2, 3],\n",
              "        [2, 3, 4]])"
            ]
          },
          "execution_count": 7,
          "metadata": {},
          "output_type": "execute_result"
        }
      ],
      "source": [
        "#manual tensors\n",
        "torch.tensor([[1,2,3],[2,3,4]])"
      ]
    },
    {
      "cell_type": "code",
      "execution_count": 10,
      "metadata": {
        "colab": {
          "base_uri": "https://localhost:8080/"
        },
        "id": "XJ6-h8VxBCrl",
        "outputId": "e04435cd-b59b-42ea-92cf-6aa0d2401cd2"
      },
      "outputs": [
        {
          "name": "stdout",
          "output_type": "stream",
          "text": [
            "arange tensor([0, 1, 2, 3, 4, 5, 6, 7, 8, 9])\n",
            "linspace tensor([ 0.0000,  1.1111,  2.2222,  3.3333,  4.4444,  5.5556,  6.6667,  7.7778,\n",
            "         8.8889, 10.0000])\n",
            "eye tensor([[1., 0., 0., 0., 0.],\n",
            "        [0., 1., 0., 0., 0.],\n",
            "        [0., 0., 1., 0., 0.],\n",
            "        [0., 0., 0., 1., 0.],\n",
            "        [0., 0., 0., 0., 1.]])\n",
            "full tensor([[5, 5],\n",
            "        [5, 5]])\n"
          ]
        }
      ],
      "source": [
        "print(\"arange\" , torch.arange(0,10,1))\n",
        "\n",
        "print(\"linspace\" , torch.linspace(0,10,10))\n",
        "\n",
        "print(\"eye\" , torch.eye(5))\n",
        "\n",
        "print(\"full\" , torch.full((2,2),5))"
      ]
    },
    {
      "cell_type": "code",
      "execution_count": 12,
      "metadata": {
        "colab": {
          "base_uri": "https://localhost:8080/"
        },
        "id": "B9sevTe3DmY3",
        "outputId": "25e98bca-87a9-4735-f010-d75bc00833ba"
      },
      "outputs": [
        {
          "data": {
            "text/plain": [
              "torch.Size([3, 2])"
            ]
          },
          "execution_count": 12,
          "metadata": {},
          "output_type": "execute_result"
        }
      ],
      "source": [
        "x=torch.tensor([[1,2],[2,3],[3,4]])\n",
        "x.shape"
      ]
    },
    {
      "cell_type": "code",
      "execution_count": 15,
      "metadata": {
        "colab": {
          "base_uri": "https://localhost:8080/"
        },
        "id": "O_N2udV0EN6F",
        "outputId": "bef461cf-3306-466b-df35-bab32c703f86"
      },
      "outputs": [
        {
          "data": {
            "text/plain": [
              "tensor([[7810763971874521088, 8319683848551211643],\n",
              "        [3180222411935070754, 8391722768137527840],\n",
              "        [7959390389040738153, 2318283094764429940]])"
            ]
          },
          "execution_count": 15,
          "metadata": {},
          "output_type": "execute_result"
        }
      ],
      "source": [
        "torch.empty_like(x)"
      ]
    },
    {
      "cell_type": "code",
      "execution_count": 16,
      "metadata": {
        "colab": {
          "base_uri": "https://localhost:8080/"
        },
        "id": "bLMGOTHAEROi",
        "outputId": "a830fa68-274f-4079-d62d-062fbd23fbbb"
      },
      "outputs": [
        {
          "data": {
            "text/plain": [
              "tensor([[0, 0],\n",
              "        [0, 0],\n",
              "        [0, 0]])"
            ]
          },
          "execution_count": 16,
          "metadata": {},
          "output_type": "execute_result"
        }
      ],
      "source": [
        "torch.zeros_like(x)"
      ]
    },
    {
      "cell_type": "code",
      "execution_count": 17,
      "metadata": {
        "colab": {
          "base_uri": "https://localhost:8080/"
        },
        "id": "pjYux-_FEaDM",
        "outputId": "0ab2e77e-059e-4992-ea31-8ebeb4c33d1e"
      },
      "outputs": [
        {
          "data": {
            "text/plain": [
              "torch.int64"
            ]
          },
          "execution_count": 17,
          "metadata": {},
          "output_type": "execute_result"
        }
      ],
      "source": [
        "x.dtype"
      ]
    },
    {
      "cell_type": "code",
      "execution_count": 18,
      "metadata": {
        "colab": {
          "base_uri": "https://localhost:8080/"
        },
        "id": "BuiIXsxjE-Wc",
        "outputId": "35a7adf6-f818-4791-afd0-dc8d89eadf1f"
      },
      "outputs": [
        {
          "data": {
            "text/plain": [
              "tensor([1, 2, 3], dtype=torch.int32)"
            ]
          },
          "execution_count": 18,
          "metadata": {},
          "output_type": "execute_result"
        }
      ],
      "source": [
        "torch.tensor([1.0,2.0,3.0],dtype=torch.int32)"
      ]
    },
    {
      "cell_type": "code",
      "execution_count": 19,
      "metadata": {
        "colab": {
          "base_uri": "https://localhost:8080/"
        },
        "id": "4zbALoLtFKzk",
        "outputId": "0ed708a6-22dd-4dee-8c33-81b4a1f8acd7"
      },
      "outputs": [
        {
          "data": {
            "text/plain": [
              "tensor([1., 2., 3.], dtype=torch.float64)"
            ]
          },
          "execution_count": 19,
          "metadata": {},
          "output_type": "execute_result"
        }
      ],
      "source": [
        "torch.tensor([1.0,2.0,3.0],dtype=torch.float64)"
      ]
    },
    {
      "cell_type": "code",
      "execution_count": 20,
      "metadata": {
        "colab": {
          "base_uri": "https://localhost:8080/"
        },
        "id": "7r1qqjSNFPG3",
        "outputId": "dc5d4137-172b-4c06-dcdb-3600256b13c7"
      },
      "outputs": [
        {
          "data": {
            "text/plain": [
              "tensor([[1., 2.],\n",
              "        [2., 3.],\n",
              "        [3., 4.]], dtype=torch.float64)"
            ]
          },
          "execution_count": 20,
          "metadata": {},
          "output_type": "execute_result"
        }
      ],
      "source": [
        "x.to(torch.float64)"
      ]
    },
    {
      "cell_type": "markdown",
      "metadata": {
        "id": "r_EdLTHrFtts"
      },
      "source": [
        "# Mathematical Operations"
      ]
    },
    {
      "cell_type": "code",
      "execution_count": 33,
      "metadata": {
        "colab": {
          "base_uri": "https://localhost:8080/"
        },
        "id": "-4k8_NAlFVVz",
        "outputId": "598872df-2f37-4a87-c72a-c88822a09d39"
      },
      "outputs": [
        {
          "data": {
            "text/plain": [
              "tensor([[ 1,  4],\n",
              "        [ 4,  9],\n",
              "        [ 9, 16]])"
            ]
          },
          "execution_count": 33,
          "metadata": {},
          "output_type": "execute_result"
        }
      ],
      "source": [
        "x+2\n",
        "\n",
        "x-2\n",
        "\n",
        "x/2\n",
        "\n",
        "x*2\n",
        "\n",
        "(x*100)/3\n",
        "\n",
        "x**2  #elementwise operations"
      ]
    },
    {
      "cell_type": "code",
      "execution_count": 34,
      "metadata": {
        "colab": {
          "base_uri": "https://localhost:8080/"
        },
        "id": "HR8CwAhFF02c",
        "outputId": "af675809-8677-4c64-e427-8ee7e4dfa381"
      },
      "outputs": [
        {
          "data": {
            "text/plain": [
              "tensor([[-1, -2],\n",
              "        [-2, -3],\n",
              "        [-3, -4]])"
            ]
          },
          "execution_count": 34,
          "metadata": {},
          "output_type": "execute_result"
        }
      ],
      "source": [
        "torch.neg(x)"
      ]
    },
    {
      "cell_type": "code",
      "execution_count": 35,
      "metadata": {
        "colab": {
          "base_uri": "https://localhost:8080/"
        },
        "id": "-jggoA3XG9WJ",
        "outputId": "f5630013-f8bd-4469-802d-abe403b51141"
      },
      "outputs": [
        {
          "data": {
            "text/plain": [
              "tensor([[1, 2],\n",
              "        [2, 3],\n",
              "        [3, 4]])"
            ]
          },
          "execution_count": 35,
          "metadata": {},
          "output_type": "execute_result"
        }
      ],
      "source": [
        "torch.ceil(x)"
      ]
    },
    {
      "cell_type": "code",
      "execution_count": 37,
      "metadata": {
        "colab": {
          "base_uri": "https://localhost:8080/"
        },
        "id": "dA3QUri4HC0f",
        "outputId": "7df8d88a-e6e0-4c4f-bcc3-67f9a9f3e58d"
      },
      "outputs": [
        {
          "data": {
            "text/plain": [
              "tensor(15)"
            ]
          },
          "execution_count": 37,
          "metadata": {},
          "output_type": "execute_result"
        }
      ],
      "source": [
        "torch.sum(x) #sum of tensor"
      ]
    },
    {
      "cell_type": "code",
      "execution_count": 44,
      "metadata": {
        "colab": {
          "base_uri": "https://localhost:8080/"
        },
        "id": "H9rrHRfhHP7k",
        "outputId": "b0e84ec4-ef21-4ed4-cc9e-f5e84de73abc"
      },
      "outputs": [
        {
          "data": {
            "text/plain": [
              "tensor(0.6758, dtype=torch.float16)"
            ]
          },
          "execution_count": 44,
          "metadata": {},
          "output_type": "execute_result"
        }
      ],
      "source": [
        "y=torch.rand(2,3,dtype=torch.float16)\n",
        "torch.mean(y) #only on float dtype\n"
      ]
    },
    {
      "cell_type": "code",
      "execution_count": 46,
      "metadata": {
        "colab": {
          "base_uri": "https://localhost:8080/"
        },
        "id": "E0MUxuHtHWu7",
        "outputId": "750b89eb-bb19-4594-89fd-1d0b0c8327f0"
      },
      "outputs": [
        {
          "data": {
            "text/plain": [
              "tensor(0.0278, dtype=torch.float16)"
            ]
          },
          "execution_count": 46,
          "metadata": {},
          "output_type": "execute_result"
        }
      ],
      "source": [
        "torch.prod(y)"
      ]
    },
    {
      "cell_type": "code",
      "execution_count": 47,
      "metadata": {
        "colab": {
          "base_uri": "https://localhost:8080/"
        },
        "id": "wxWw4v3PJHMC",
        "outputId": "4f0e5b25-f5ed-458f-eebf-7fec5809e926"
      },
      "outputs": [
        {
          "data": {
            "text/plain": [
              "tensor(0.3237, dtype=torch.float16)"
            ]
          },
          "execution_count": 47,
          "metadata": {},
          "output_type": "execute_result"
        }
      ],
      "source": [
        "torch.std(y)"
      ]
    },
    {
      "cell_type": "code",
      "execution_count": 48,
      "metadata": {
        "colab": {
          "base_uri": "https://localhost:8080/"
        },
        "id": "O-OZUR1DJLQ2",
        "outputId": "1be43cab-40be-4eb8-c464-2a3ef867ad76"
      },
      "outputs": [
        {
          "data": {
            "text/plain": [
              "tensor(0.1047, dtype=torch.float16)"
            ]
          },
          "execution_count": 48,
          "metadata": {},
          "output_type": "execute_result"
        }
      ],
      "source": [
        "torch.var(y)"
      ]
    },
    {
      "cell_type": "code",
      "execution_count": 49,
      "metadata": {
        "colab": {
          "base_uri": "https://localhost:8080/"
        },
        "id": "vsp7Q0MMJOEd",
        "outputId": "3aa735e5-ce45-4ef2-b1d1-d6f110433719"
      },
      "outputs": [
        {
          "data": {
            "text/plain": [
              "tensor(5)"
            ]
          },
          "execution_count": 49,
          "metadata": {},
          "output_type": "execute_result"
        }
      ],
      "source": [
        "torch.argmax(x) #position of max element"
      ]
    },
    {
      "cell_type": "code",
      "execution_count": 51,
      "metadata": {
        "colab": {
          "base_uri": "https://localhost:8080/"
        },
        "id": "MLQbYpawJUVm",
        "outputId": "4e963555-688e-4dd4-b99c-68d11e255637"
      },
      "outputs": [
        {
          "data": {
            "text/plain": [
              "tensor(32)"
            ]
          },
          "execution_count": 51,
          "metadata": {},
          "output_type": "execute_result"
        }
      ],
      "source": [
        "v1=torch.tensor([1,2,3])\n",
        "v2=torch.tensor([4,5,6])\n",
        "torch.dot(v1,v2)\n"
      ]
    },
    {
      "cell_type": "code",
      "execution_count": 53,
      "metadata": {
        "colab": {
          "base_uri": "https://localhost:8080/"
        },
        "id": "P3KBHOVaJesa",
        "outputId": "c7de76fd-d524-468b-ed31-9ee5c36ea102"
      },
      "outputs": [
        {
          "data": {
            "text/plain": [
              "tensor([False, False, False])"
            ]
          },
          "execution_count": 53,
          "metadata": {},
          "output_type": "execute_result"
        }
      ],
      "source": [
        "v1>v2 #comparison between two matrices"
      ]
    },
    {
      "cell_type": "markdown",
      "metadata": {
        "id": "CgThkqNdK03-"
      },
      "source": [
        "# Activation Functions"
      ]
    },
    {
      "cell_type": "code",
      "execution_count": 54,
      "metadata": {
        "colab": {
          "base_uri": "https://localhost:8080/"
        },
        "id": "8_pYFyvxJ2q3",
        "outputId": "13fdfc14-e030-4313-ca71-1b300cf91ad1"
      },
      "outputs": [
        {
          "data": {
            "text/plain": [
              "tensor([[0.0000, 0.6931],\n",
              "        [0.6931, 1.0986],\n",
              "        [1.0986, 1.3863]])"
            ]
          },
          "execution_count": 54,
          "metadata": {},
          "output_type": "execute_result"
        }
      ],
      "source": [
        "torch.log(x)"
      ]
    },
    {
      "cell_type": "code",
      "execution_count": 55,
      "metadata": {
        "colab": {
          "base_uri": "https://localhost:8080/"
        },
        "id": "k7556mrsKDfw",
        "outputId": "4a0222e3-3bbc-4528-96ef-59e4c3aacefb"
      },
      "outputs": [
        {
          "data": {
            "text/plain": [
              "tensor([[0.7311, 0.8808],\n",
              "        [0.8808, 0.9526],\n",
              "        [0.9526, 0.9820]])"
            ]
          },
          "execution_count": 55,
          "metadata": {},
          "output_type": "execute_result"
        }
      ],
      "source": [
        "torch.sigmoid(x)"
      ]
    },
    {
      "cell_type": "code",
      "execution_count": 57,
      "metadata": {
        "colab": {
          "base_uri": "https://localhost:8080/"
        },
        "id": "_Sov89S_Kw4x",
        "outputId": "ab63670e-fe9a-4ec8-d4bc-271b88a73581"
      },
      "outputs": [
        {
          "data": {
            "text/plain": [
              "tensor([[0.3662, 0.1904, 0.4434],\n",
              "        [0.2693, 0.3154, 0.4150]], dtype=torch.float16)"
            ]
          },
          "execution_count": 57,
          "metadata": {},
          "output_type": "execute_result"
        }
      ],
      "source": [
        "torch.softmax(y,dim=1)"
      ]
    },
    {
      "cell_type": "code",
      "execution_count": 58,
      "metadata": {
        "colab": {
          "base_uri": "https://localhost:8080/"
        },
        "id": "STtvbEFPK5Ha",
        "outputId": "45fc4307-ce62-47da-fafd-74955a8970a5"
      },
      "outputs": [
        {
          "data": {
            "text/plain": [
              "tensor([[0.7534, 0.0996, 0.9448],\n",
              "        [0.5552, 0.7134, 0.9878]], dtype=torch.float16)"
            ]
          },
          "execution_count": 58,
          "metadata": {},
          "output_type": "execute_result"
        }
      ],
      "source": [
        "torch.relu(y)"
      ]
    },
    {
      "cell_type": "markdown",
      "metadata": {
        "id": "NmdkmtlpLEra"
      },
      "source": [
        "# Inplace Operations"
      ]
    },
    {
      "cell_type": "code",
      "execution_count": 59,
      "metadata": {
        "colab": {
          "base_uri": "https://localhost:8080/"
        },
        "id": "fRbpqqEbLAfv",
        "outputId": "8c1a1a10-610f-4578-c325-1f45d8ba21c5"
      },
      "outputs": [
        {
          "name": "stdout",
          "output_type": "stream",
          "text": [
            "tensor([[0.0407, 0.7850, 0.9752],\n",
            "        [0.0903, 0.5273, 0.6794]])\n",
            "tensor([[0.2639, 0.3906, 0.1661],\n",
            "        [0.2636, 0.0442, 0.4884]])\n"
          ]
        }
      ],
      "source": [
        "m=torch.rand(2,3)\n",
        "n=torch.rand(2,3)\n",
        "\n",
        "print(m)\n",
        "print(n)"
      ]
    },
    {
      "cell_type": "code",
      "execution_count": 60,
      "metadata": {
        "colab": {
          "base_uri": "https://localhost:8080/"
        },
        "id": "oqas6UvTLTup",
        "outputId": "97b5c6d6-b437-4256-a70e-bf670603223c"
      },
      "outputs": [
        {
          "data": {
            "text/plain": [
              "tensor([[0.3046, 1.1756, 1.1413],\n",
              "        [0.3540, 0.5715, 1.1678]])"
            ]
          },
          "execution_count": 60,
          "metadata": {},
          "output_type": "execute_result"
        }
      ],
      "source": [
        "m.add_(n)"
      ]
    },
    {
      "cell_type": "code",
      "execution_count": 63,
      "metadata": {
        "colab": {
          "base_uri": "https://localhost:8080/"
        },
        "id": "B072sKfCLXEM",
        "outputId": "1ec514df-9b1e-40b5-d3ea-0bac1586b705"
      },
      "outputs": [
        {
          "data": {
            "text/plain": [
              "tensor([[0.3046, 1.1756, 1.1413],\n",
              "        [0.3540, 0.5715, 1.1678]])"
            ]
          },
          "execution_count": 63,
          "metadata": {},
          "output_type": "execute_result"
        }
      ],
      "source": [
        "m.relu_() #permanent changes by _ after operation name"
      ]
    },
    {
      "cell_type": "code",
      "execution_count": 64,
      "metadata": {
        "id": "FuYsAnsCLfpe"
      },
      "outputs": [],
      "source": [
        "#Cloning\n",
        "\n",
        "p=m.clone()"
      ]
    },
    {
      "cell_type": "code",
      "execution_count": 65,
      "metadata": {
        "colab": {
          "base_uri": "https://localhost:8080/"
        },
        "id": "47eHyXy7MD1t",
        "outputId": "400b7d18-5a55-40c1-8d95-241b4456d89c"
      },
      "outputs": [
        {
          "data": {
            "text/plain": [
              "tensor([[0.3046, 1.1756, 1.1413],\n",
              "        [0.3540, 0.5715, 1.1678]])"
            ]
          },
          "execution_count": 65,
          "metadata": {},
          "output_type": "execute_result"
        }
      ],
      "source": [
        "p"
      ]
    },
    {
      "cell_type": "markdown",
      "metadata": {
        "id": "9M94vPw7MROV"
      },
      "source": [
        "# Using GPU for tensor operations"
      ]
    },
    {
      "cell_type": "code",
      "execution_count": 66,
      "metadata": {
        "colab": {
          "base_uri": "https://localhost:8080/"
        },
        "id": "I7xlPFApMEs8",
        "outputId": "cdde7b8a-7aba-479d-ec34-a2997f77db31"
      },
      "outputs": [
        {
          "data": {
            "text/plain": [
              "tensor([[0.7660, 0.3875, 0.7305],\n",
              "        [0.1861, 0.9196, 0.4495]], device='cuda:0')"
            ]
          },
          "execution_count": 66,
          "metadata": {},
          "output_type": "execute_result"
        }
      ],
      "source": [
        "torch.rand((2,3),device=device)"
      ]
    },
    {
      "cell_type": "code",
      "execution_count": 68,
      "metadata": {
        "id": "PwtsmjJNMciq"
      },
      "outputs": [],
      "source": [
        "b=m.to(device)"
      ]
    },
    {
      "cell_type": "code",
      "execution_count": 69,
      "metadata": {
        "colab": {
          "base_uri": "https://localhost:8080/"
        },
        "id": "_0_-lwuqMnw3",
        "outputId": "114f636a-77d6-4480-d51c-da09a97cb119"
      },
      "outputs": [
        {
          "data": {
            "text/plain": [
              "tensor([[5.3046, 6.1756, 6.1413],\n",
              "        [5.3540, 5.5715, 6.1678]], device='cuda:0')"
            ]
          },
          "execution_count": 69,
          "metadata": {},
          "output_type": "execute_result"
        }
      ],
      "source": [
        "b+5"
      ]
    },
    {
      "cell_type": "code",
      "execution_count": 70,
      "metadata": {
        "colab": {
          "base_uri": "https://localhost:8080/"
        },
        "id": "GxVPwRb6Mrzw",
        "outputId": "593ed20e-9e8e-41c8-c83b-1170054def62"
      },
      "outputs": [
        {
          "name": "stdout",
          "output_type": "stream",
          "text": [
            "25.81475567817688\n",
            "0.11809897422790527\n"
          ]
        }
      ],
      "source": [
        "import time\n",
        "\n",
        "size=10000\n",
        "\n",
        "matrixcpu1=torch.randn(size,size)\n",
        "matrixcpu2=torch.randn(size,size)\n",
        "\n",
        "matrixgpu1=matrixcpu1.to(device)\n",
        "matrixgpu2=matrixcpu2.to(device)\n",
        "\n",
        "start_timecpu=time.time()\n",
        "matrixcpu1.matmul(matrixcpu2)\n",
        "end_time=time.time()\n",
        "print(end_time-start_timecpu)\n",
        "\n",
        "start_timegpu=time.time()\n",
        "matrixgpu1.matmul(matrixgpu2)\n",
        "end_time=time.time()\n",
        "print(end_time-start_timegpu)\n"
      ]
    },
    {
      "cell_type": "code",
      "execution_count": 71,
      "metadata": {
        "colab": {
          "base_uri": "https://localhost:8080/"
        },
        "id": "ee_BLlzINGuH",
        "outputId": "bffdf635-bc95-470f-a3d4-ca5871fbf12a"
      },
      "outputs": [
        {
          "data": {
            "text/plain": [
              "tensor([0.3046, 1.1756, 1.1413, 0.3540, 0.5715, 1.1678])"
            ]
          },
          "execution_count": 71,
          "metadata": {},
          "output_type": "execute_result"
        }
      ],
      "source": [
        "#flatten\n",
        "\n",
        "m.flatten()"
      ]
    },
    {
      "cell_type": "code",
      "execution_count": null,
      "metadata": {
        "id": "3QVC64WhNfdV"
      },
      "outputs": [],
      "source": []
    }
  ],
  "metadata": {
    "accelerator": "GPU",
    "colab": {
      "gpuType": "T4",
      "provenance": []
    },
    "kernelspec": {
      "display_name": "Python 3",
      "name": "python3"
    },
    "language_info": {
      "name": "python"
    }
  },
  "nbformat": 4,
  "nbformat_minor": 0
}
